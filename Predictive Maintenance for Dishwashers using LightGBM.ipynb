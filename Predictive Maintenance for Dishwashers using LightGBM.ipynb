{
 "cells": [
  {
   "cell_type": "code",
   "execution_count": 1,
   "id": "e5234271-9c2b-493d-a620-49b095324e01",
   "metadata": {},
   "outputs": [],
   "source": [
    "import numpy as np\n",
    "import pandas as pd\n",
    "import tensorflow as tf\n",
    "import matplotlib.pyplot as plt\n",
    "import seaborn as sns\n",
    "from sklearn.model_selection import KFold, cross_val_score,cross_val_predict\n",
    "from imblearn.over_sampling import RandomOverSampler\n",
    "from imblearn.over_sampling import SMOTE\n",
    "from sklearn.model_selection import train_test_split\n",
    "from sklearn.preprocessing import LabelEncoder\n",
    "from sklearn.ensemble import RandomForestClassifier\n",
    "from sklearn.metrics import classification_report\n",
    "from sklearn.metrics import classification_report, confusion_matrix,log_loss\n",
    "import warnings"
   ]
  },
  {
   "cell_type": "code",
   "execution_count": 2,
   "id": "2d8bfd8f-e523-47db-8e71-c62809cd9a19",
   "metadata": {},
   "outputs": [],
   "source": [
    "# Ignore all warnings\n",
    "warnings.filterwarnings(\"ignore\")"
   ]
  },
  {
   "cell_type": "code",
   "execution_count": 3,
   "id": "ae8b41de-229e-4ab8-9938-3913e06b552b",
   "metadata": {},
   "outputs": [],
   "source": [
    "# Load sheets into DataFrames\n",
    "Main_data = pd.read_excel(\"C:\\\\Users\\\\Mukaffi\\\\Downloads\\\\Preprocessed_Main_data.xlsx\")"
   ]
  },
  {
   "cell_type": "code",
   "execution_count": 4,
   "id": "588e9b4e-75c1-42d3-b047-9ecbcd6dd7b9",
   "metadata": {},
   "outputs": [
    {
     "data": {
      "text/html": [
       "<div>\n",
       "<style scoped>\n",
       "    .dataframe tbody tr th:only-of-type {\n",
       "        vertical-align: middle;\n",
       "    }\n",
       "\n",
       "    .dataframe tbody tr th {\n",
       "        vertical-align: top;\n",
       "    }\n",
       "\n",
       "    .dataframe thead th {\n",
       "        text-align: right;\n",
       "    }\n",
       "</style>\n",
       "<table border=\"1\" class=\"dataframe\">\n",
       "  <thead>\n",
       "    <tr style=\"text-align: right;\">\n",
       "      <th></th>\n",
       "      <th>device</th>\n",
       "      <th>time</th>\n",
       "      <th>Temperature Sensor-1</th>\n",
       "      <th>Vibration Sensor-1</th>\n",
       "      <th>Vibration Sensor-2</th>\n",
       "      <th>Vibration Sensor-3</th>\n",
       "      <th>Health</th>\n",
       "    </tr>\n",
       "  </thead>\n",
       "  <tbody>\n",
       "    <tr>\n",
       "      <th>0</th>\n",
       "      <td>esp32_001</td>\n",
       "      <td>09:34:57</td>\n",
       "      <td>20.797449</td>\n",
       "      <td>2147483647</td>\n",
       "      <td>4758</td>\n",
       "      <td>2147483647</td>\n",
       "      <td>Bad</td>\n",
       "    </tr>\n",
       "    <tr>\n",
       "      <th>1</th>\n",
       "      <td>esp32_001</td>\n",
       "      <td>09:35:03</td>\n",
       "      <td>21.683039</td>\n",
       "      <td>7056</td>\n",
       "      <td>4590</td>\n",
       "      <td>2147483647</td>\n",
       "      <td>Bad</td>\n",
       "    </tr>\n",
       "    <tr>\n",
       "      <th>2</th>\n",
       "      <td>esp32_001</td>\n",
       "      <td>09:35:08</td>\n",
       "      <td>21.838221</td>\n",
       "      <td>4465</td>\n",
       "      <td>6405</td>\n",
       "      <td>2147483647</td>\n",
       "      <td>Bad</td>\n",
       "    </tr>\n",
       "    <tr>\n",
       "      <th>3</th>\n",
       "      <td>esp32_001</td>\n",
       "      <td>09:35:14</td>\n",
       "      <td>21.855524</td>\n",
       "      <td>3699</td>\n",
       "      <td>935</td>\n",
       "      <td>2147483647</td>\n",
       "      <td>Bad</td>\n",
       "    </tr>\n",
       "    <tr>\n",
       "      <th>4</th>\n",
       "      <td>esp32_001</td>\n",
       "      <td>09:35:19</td>\n",
       "      <td>21.700251</td>\n",
       "      <td>2269</td>\n",
       "      <td>266</td>\n",
       "      <td>447</td>\n",
       "      <td>Moderate</td>\n",
       "    </tr>\n",
       "  </tbody>\n",
       "</table>\n",
       "</div>"
      ],
      "text/plain": [
       "      device      time  Temperature Sensor-1  Vibration Sensor-1  \\\n",
       "0  esp32_001  09:34:57             20.797449          2147483647   \n",
       "1  esp32_001  09:35:03             21.683039                7056   \n",
       "2  esp32_001  09:35:08             21.838221                4465   \n",
       "3  esp32_001  09:35:14             21.855524                3699   \n",
       "4  esp32_001  09:35:19             21.700251                2269   \n",
       "\n",
       "   Vibration Sensor-2  Vibration Sensor-3    Health  \n",
       "0                4758          2147483647       Bad  \n",
       "1                4590          2147483647       Bad  \n",
       "2                6405          2147483647       Bad  \n",
       "3                 935          2147483647       Bad  \n",
       "4                 266                 447  Moderate  "
      ]
     },
     "execution_count": 4,
     "metadata": {},
     "output_type": "execute_result"
    }
   ],
   "source": [
    "Main_data.head()"
   ]
  },
  {
   "cell_type": "code",
   "execution_count": 5,
   "id": "6365fd69-9366-47ba-b31c-a701d185c1ca",
   "metadata": {},
   "outputs": [
    {
     "data": {
      "text/plain": [
       "(20505, 7)"
      ]
     },
     "execution_count": 5,
     "metadata": {},
     "output_type": "execute_result"
    }
   ],
   "source": [
    "Main_data.shape"
   ]
  },
  {
   "cell_type": "code",
   "execution_count": 6,
   "id": "910c6b03-bb0d-4c52-8855-b09b83092f9f",
   "metadata": {},
   "outputs": [
    {
     "data": {
      "text/plain": [
       "array(['Bad', 'Moderate', 'Good'], dtype=object)"
      ]
     },
     "execution_count": 6,
     "metadata": {},
     "output_type": "execute_result"
    }
   ],
   "source": [
    "Main_data['Health'].unique()"
   ]
  },
  {
   "cell_type": "code",
   "execution_count": 7,
   "id": "508dcad1-98a0-4c5c-962b-9f62ac191f98",
   "metadata": {},
   "outputs": [
    {
     "data": {
      "text/plain": [
       "Health\n",
       "Good        8066\n",
       "Moderate    8051\n",
       "Bad         4388\n",
       "Name: count, dtype: int64"
      ]
     },
     "execution_count": 7,
     "metadata": {},
     "output_type": "execute_result"
    }
   ],
   "source": [
    "Main_data['Health'].value_counts()"
   ]
  },
  {
   "cell_type": "code",
   "execution_count": 8,
   "id": "081a2df3-3e9d-43ed-9619-8b962c215207",
   "metadata": {},
   "outputs": [
    {
     "data": {
      "text/plain": [
       "device\n",
       "Rittou_57    16813\n",
       "esp32_001     3692\n",
       "Name: count, dtype: int64"
      ]
     },
     "execution_count": 8,
     "metadata": {},
     "output_type": "execute_result"
    }
   ],
   "source": [
    "Main_data['device'].value_counts()"
   ]
  },
  {
   "cell_type": "markdown",
   "id": "1fb7ad6b-f8b1-4852-a4f1-0785cf791a39",
   "metadata": {},
   "source": [
    "# ***Distribution of Health Categories***"
   ]
  },
  {
   "cell_type": "code",
   "execution_count": 9,
   "id": "97ceff50-efc2-4a08-96b2-8fb98f7138e6",
   "metadata": {},
   "outputs": [
    {
     "data": {
      "image/png": "[encoded data removed]",
      "text/plain": [
       "<Figure size 800x500 with 1 Axes>"
      ]
     },
     "metadata": {},
     "output_type": "display_data"
    }
   ],
   "source": [
    "import matplotlib.pyplot as plt\n",
    "from matplotlib.font_manager import FontProperties\n",
    "import seaborn as sns\n",
    "custom_palette = ['Purple', 'MediumVioletRed', 'lightcoral', 'Dodgerblue', 'Dodgerblue', 'Purple']\n",
    "# Define a custom font\n",
    "custom_font = FontProperties(family='serif', style='normal', size=12)\n",
    "\n",
    "plt.figure(figsize=(8, 5))\n",
    "\n",
    "# Create a pie chart for the 'Health' column\n",
    "health_counts = Main_data['Health'].value_counts()\n",
    "labels = health_counts.index\n",
    "sizes = health_counts.values\n",
    "colors = sns.color_palette(\"Set2\")\n",
    "plt.pie(sizes, labels=labels, autopct='%1.1f%%', startangle=90, colors=colors)\n",
    "\n",
    "plt.title('Distribution of Health Categories', fontproperties=custom_font)\n",
    "\n",
    "plt.show()\n"
   ]
  },
  {
   "cell_type": "markdown",
   "id": "e406c055-693f-43d8-9d26-5a9df9b08bd2",
   "metadata": {},
   "source": [
    "# ***Convert categorical labels to numerical using LabelEncoder***"
   ]
  },
  {
   "cell_type": "code",
   "execution_count": 10,
   "id": "44b91695-1c62-4ba2-9fb1-d3da04bb1e34",
   "metadata": {},
   "outputs": [
    {
     "data": {
      "text/plain": [
       "array(['Bad', 'Good', 'Moderate'], dtype=object)"
      ]
     },
     "execution_count": 10,
     "metadata": {},
     "output_type": "execute_result"
    }
   ],
   "source": [
    "# Drop Column Device, time and Health \n",
    "X = Main_data.drop(columns=['device','Health','time'])\n",
    "y = Main_data['Health']\n",
    "\n",
    "# Convert categorical labels to numerical using LabelEncoder\n",
    "label_encoder = LabelEncoder()\n",
    "y = label_encoder.fit_transform(y)\n",
    "\n",
    "# Get the original class labels\n",
    "original_classes = label_encoder.classes_\n",
    "original_classes"
   ]
  },
  {
   "cell_type": "code",
   "execution_count": 11,
   "id": "2c859f15-9460-4293-80bb-62c627643d6d",
   "metadata": {},
   "outputs": [
    {
     "data": {
      "text/plain": [
       "(20505, 4)"
      ]
     },
     "execution_count": 11,
     "metadata": {},
     "output_type": "execute_result"
    }
   ],
   "source": [
    "X.shape"
   ]
  },
  {
   "cell_type": "code",
   "execution_count": 12,
   "id": "51e4d3b7-a08a-49f6-ba48-ea43494e4b2d",
   "metadata": {},
   "outputs": [
    {
     "data": {
      "text/html": [
       "<div>\n",
       "<style scoped>\n",
       "    .dataframe tbody tr th:only-of-type {\n",
       "        vertical-align: middle;\n",
       "    }\n",
       "\n",
       "    .dataframe tbody tr th {\n",
       "        vertical-align: top;\n",
       "    }\n",
       "\n",
       "    .dataframe thead th {\n",
       "        text-align: right;\n",
       "    }\n",
       "</style>\n",
       "<table border=\"1\" class=\"dataframe\">\n",
       "  <thead>\n",
       "    <tr style=\"text-align: right;\">\n",
       "      <th></th>\n",
       "      <th>Temperature Sensor-1</th>\n",
       "      <th>Vibration Sensor-1</th>\n",
       "      <th>Vibration Sensor-2</th>\n",
       "      <th>Vibration Sensor-3</th>\n",
       "    </tr>\n",
       "  </thead>\n",
       "  <tbody>\n",
       "    <tr>\n",
       "      <th>Temperature Sensor-1</th>\n",
       "      <td>1.000000</td>\n",
       "      <td>-0.002077</td>\n",
       "      <td>-0.004496</td>\n",
       "      <td>-0.038567</td>\n",
       "    </tr>\n",
       "    <tr>\n",
       "      <th>Vibration Sensor-1</th>\n",
       "      <td>-0.002077</td>\n",
       "      <td>1.000000</td>\n",
       "      <td>-0.000188</td>\n",
       "      <td>0.054852</td>\n",
       "    </tr>\n",
       "    <tr>\n",
       "      <th>Vibration Sensor-2</th>\n",
       "      <td>-0.004496</td>\n",
       "      <td>-0.000188</td>\n",
       "      <td>1.000000</td>\n",
       "      <td>0.070827</td>\n",
       "    </tr>\n",
       "    <tr>\n",
       "      <th>Vibration Sensor-3</th>\n",
       "      <td>-0.038567</td>\n",
       "      <td>0.054852</td>\n",
       "      <td>0.070827</td>\n",
       "      <td>1.000000</td>\n",
       "    </tr>\n",
       "  </tbody>\n",
       "</table>\n",
       "</div>"
      ],
      "text/plain": [
       "                      Temperature Sensor-1  Vibration Sensor-1  \\\n",
       "Temperature Sensor-1              1.000000           -0.002077   \n",
       "Vibration Sensor-1               -0.002077            1.000000   \n",
       "Vibration Sensor-2               -0.004496           -0.000188   \n",
       "Vibration Sensor-3               -0.038567            0.054852   \n",
       "\n",
       "                      Vibration Sensor-2  Vibration Sensor-3  \n",
       "Temperature Sensor-1           -0.004496           -0.038567  \n",
       "Vibration Sensor-1             -0.000188            0.054852  \n",
       "Vibration Sensor-2              1.000000            0.070827  \n",
       "Vibration Sensor-3              0.070827            1.000000  "
      ]
     },
     "execution_count": 12,
     "metadata": {},
     "output_type": "execute_result"
    }
   ],
   "source": [
    "X.corr()"
   ]
  },
  {
   "cell_type": "markdown",
   "id": "77ea94d3-ed26-4c43-8954-4230ac0a8d4a",
   "metadata": {},
   "source": [
    "# ***Apply Normalization***"
   ]
  },
  {
   "cell_type": "code",
   "execution_count": 27,
   "id": "0cff4791-f259-412f-8729-9522cb932363",
   "metadata": {},
   "outputs": [
    {
     "data": {
      "text/plain": [
       "array([[1.01043681e-01, 1.00000000e+00, 2.20118094e-06, 1.00000000e+00],\n",
       "       [1.04151014e-01, 3.24193403e-06, 2.12294984e-06, 1.00000000e+00],\n",
       "       [1.04695512e-01, 2.03540558e-06, 2.96812509e-06, 1.00000000e+00],\n",
       "       ...,\n",
       "       [1.12036435e-01, 3.68151830e-06, 3.08454041e-06, 1.41374769e-06],\n",
       "       [1.08068933e-01, 7.35744866e-08, 2.15042386e-06, 2.76509677e-06],\n",
       "       [1.05913000e-01, 2.53878545e-06, 7.17118393e-08, 8.84756459e-08]])"
      ]
     },
     "execution_count": 27,
     "metadata": {},
     "output_type": "execute_result"
    }
   ],
   "source": [
    "from sklearn.preprocessing import MinMaxScaler\n",
    "\n",
    "# Initialize MinMaxScaler\n",
    "scaler = MinMaxScaler()\n",
    "\n",
    "# Normalize the features in X\n",
    "X_normalized = scaler.fit_transform(X)\n",
    "\n",
    "X_normalized"
   ]
  },
  {
   "cell_type": "markdown",
   "id": "f4901b9a-9a86-4482-b9a6-875d6764750d",
   "metadata": {},
   "source": [
    "# ***Train and Test Split with stratified sampling***"
   ]
  },
  {
   "cell_type": "code",
   "execution_count": 14,
   "id": "fde6fb7c-4be1-4db6-9b83-b20f740271e9",
   "metadata": {},
   "outputs": [],
   "source": [
    "X_train, X_test, y_train, y_test = train_test_split(X_normalized, y, test_size=0.2, random_state=42, stratify=y)"
   ]
  },
  {
   "cell_type": "code",
   "execution_count": 15,
   "id": "f6378095-6f91-4937-8203-0c42f8818cc0",
   "metadata": {},
   "outputs": [
    {
     "data": {
      "text/plain": [
       "(16404, 4)"
      ]
     },
     "execution_count": 15,
     "metadata": {},
     "output_type": "execute_result"
    }
   ],
   "source": [
    "X_train.shape"
   ]
  },
  {
   "cell_type": "code",
   "execution_count": 16,
   "id": "5d208e6d-c475-48bf-8995-35a314d83c0e",
   "metadata": {},
   "outputs": [
    {
     "data": {
      "text/plain": [
       "(4101, 4)"
      ]
     },
     "execution_count": 16,
     "metadata": {},
     "output_type": "execute_result"
    }
   ],
   "source": [
    "X_test.shape"
   ]
  },
  {
   "cell_type": "markdown",
   "id": "dff55215-2ad6-402b-87ee-43f9fb4f5fea",
   "metadata": {},
   "source": [
    "# ***Apply SMOTE on Train dataset for Handle Imbalanced Dataset***"
   ]
  },
  {
   "cell_type": "code",
   "execution_count": 17,
   "id": "97ee2855-7c7c-4c18-bd78-31e78e98a61e",
   "metadata": {},
   "outputs": [
    {
     "name": "stdout",
     "output_type": "stream",
     "text": [
      "Original class distribution: {0: 3510, 1: 6453, 2: 6441}\n",
      "Resampled class distribution: {0: 6453, 1: 6453, 2: 6453}\n"
     ]
    }
   ],
   "source": [
    "from imblearn.over_sampling import SMOTE\n",
    "\n",
    "# Initialize SMOTE\n",
    "smote = SMOTE(random_state=42)\n",
    "\n",
    "# Fit and apply SMOTE only on the training set\n",
    "X_train_resampled, y_train_resampled = smote.fit_resample(X_train, y_train)\n",
    "\n",
    "# Check the new class distribution\n",
    "print(\"Original class distribution:\", {label: count for label, count in zip(*np.unique(y_train, return_counts=True))})\n",
    "print(\"Resampled class distribution:\", {label: count for label, count in zip(*np.unique(y_train_resampled, return_counts=True))})"
   ]
  },
  {
   "cell_type": "code",
   "execution_count": 19,
   "id": "02e4c733-f5d4-4fca-9f91-0ea8aa6ca635",
   "metadata": {},
   "outputs": [],
   "source": [
    "import lightgbm as lgbm\n",
    "LightGBM_Classifier = lgbm.LGBMClassifier()"
   ]
  },
  {
   "cell_type": "code",
   "execution_count": 20,
   "id": "946ec97c-6ef4-43b7-9d80-9ce68964911d",
   "metadata": {},
   "outputs": [
    {
     "name": "stdout",
     "output_type": "stream",
     "text": [
      "[LightGBM] [Info] Auto-choosing row-wise multi-threading, the overhead of testing was 0.000078 seconds.\n",
      "You can set `force_row_wise=true` to remove the overhead.\n",
      "And if memory is not enough, you can set `force_col_wise=true`.\n",
      "[LightGBM] [Info] Total Bins 1020\n",
      "[LightGBM] [Info] Number of data points in the train set: 19359, number of used features: 4\n",
      "[LightGBM] [Info] Start training from score -1.098612\n",
      "[LightGBM] [Info] Start training from score -1.098612\n",
      "[LightGBM] [Info] Start training from score -1.098612\n"
     ]
    },
    {
     "data": {
      "text/html": [
       "<style>#sk-container-id-1 {color: black;}#sk-container-id-1 pre{padding: 0;}#sk-container-id-1 div.sk-toggleable {background-color: white;}#sk-container-id-1 label.sk-toggleable__label {cursor: pointer;display: block;width: 100%;margin-bottom: 0;padding: 0.3em;box-sizing: border-box;text-align: center;}#sk-container-id-1 label.sk-toggleable__label-arrow:before {content: \"▸\";float: left;margin-right: 0.25em;color: #696969;}#sk-container-id-1 label.sk-toggleable__label-arrow:hover:before {color: black;}#sk-container-id-1 div.sk-estimator:hover label.sk-toggleable__label-arrow:before {color: black;}#sk-container-id-1 div.sk-toggleable__content {max-height: 0;max-width: 0;overflow: hidden;text-align: left;background-color: #f0f8ff;}#sk-container-id-1 div.sk-toggleable__content pre {margin: 0.2em;color: black;border-radius: 0.25em;background-color: #f0f8ff;}#sk-container-id-1 input.sk-toggleable__control:checked~div.sk-toggleable__content {max-height: 200px;max-width: 100%;overflow: auto;}#sk-container-id-1 input.sk-toggleable__control:checked~label.sk-toggleable__label-arrow:before {content: \"▾\";}#sk-container-id-1 div.sk-estimator input.sk-toggleable__control:checked~label.sk-toggleable__label {background-color: #d4ebff;}#sk-container-id-1 div.sk-label input.sk-toggleable__control:checked~label.sk-toggleable__label {background-color: #d4ebff;}#sk-container-id-1 input.sk-hidden--visually {border: 0;clip: rect(1px 1px 1px 1px);clip: rect(1px, 1px, 1px, 1px);height: 1px;margin: -1px;overflow: hidden;padding: 0;position: absolute;width: 1px;}#sk-container-id-1 div.sk-estimator {font-family: monospace;background-color: #f0f8ff;border: 1px dotted black;border-radius: 0.25em;box-sizing: border-box;margin-bottom: 0.5em;}#sk-container-id-1 div.sk-estimator:hover {background-color: #d4ebff;}#sk-container-id-1 div.sk-parallel-item::after {content: \"\";width: 100%;border-bottom: 1px solid gray;flex-grow: 1;}#sk-container-id-1 div.sk-label:hover label.sk-toggleable__label {background-color: #d4ebff;}#sk-container-id-1 div.sk-serial::before {content: \"\";position: absolute;border-left: 1px solid gray;box-sizing: border-box;top: 0;bottom: 0;left: 50%;z-index: 0;}#sk-container-id-1 div.sk-serial {display: flex;flex-direction: column;align-items: center;background-color: white;padding-right: 0.2em;padding-left: 0.2em;position: relative;}#sk-container-id-1 div.sk-item {position: relative;z-index: 1;}#sk-container-id-1 div.sk-parallel {display: flex;align-items: stretch;justify-content: center;background-color: white;position: relative;}#sk-container-id-1 div.sk-item::before, #sk-container-id-1 div.sk-parallel-item::before {content: \"\";position: absolute;border-left: 1px solid gray;box-sizing: border-box;top: 0;bottom: 0;left: 50%;z-index: -1;}#sk-container-id-1 div.sk-parallel-item {display: flex;flex-direction: column;z-index: 1;position: relative;background-color: white;}#sk-container-id-1 div.sk-parallel-item:first-child::after {align-self: flex-end;width: 50%;}#sk-container-id-1 div.sk-parallel-item:last-child::after {align-self: flex-start;width: 50%;}#sk-container-id-1 div.sk-parallel-item:only-child::after {width: 0;}#sk-container-id-1 div.sk-dashed-wrapped {border: 1px dashed gray;margin: 0 0.4em 0.5em 0.4em;box-sizing: border-box;padding-bottom: 0.4em;background-color: white;}#sk-container-id-1 div.sk-label label {font-family: monospace;font-weight: bold;display: inline-block;line-height: 1.2em;}#sk-container-id-1 div.sk-label-container {text-align: center;}#sk-container-id-1 div.sk-container {/* jupyter's `normalize.less` sets `[hidden] { display: none; }` but bootstrap.min.css set `[hidden] { display: none !important; }` so we also need the `!important` here to be able to override the default hidden behavior on the sphinx rendered scikit-learn.org. See: https://github.com/scikit-learn/scikit-learn/issues/21755 */display: inline-block !important;position: relative;}#sk-container-id-1 div.sk-text-repr-fallback {display: none;}</style><div id=\"sk-container-id-1\" class=\"sk-top-container\"><div class=\"sk-text-repr-fallback\"><pre>LGBMClassifier()</pre><b>In a Jupyter environment, please rerun this cell to show the HTML representation or trust the notebook. <br />On GitHub, the HTML representation is unable to render, please try loading this page with nbviewer.org.</b></div><div class=\"sk-container\" hidden><div class=\"sk-item\"><div class=\"sk-estimator sk-toggleable\"><input class=\"sk-toggleable__control sk-hidden--visually\" id=\"sk-estimator-id-1\" type=\"checkbox\" checked><label for=\"sk-estimator-id-1\" class=\"sk-toggleable__label sk-toggleable__label-arrow\">LGBMClassifier</label><div class=\"sk-toggleable__content\"><pre>LGBMClassifier()</pre></div></div></div></div></div>"
      ],
      "text/plain": [
       "LGBMClassifier()"
      ]
     },
     "execution_count": 20,
     "metadata": {},
     "output_type": "execute_result"
    }
   ],
   "source": [
    "LightGBM_Classifier.fit(X_train_resampled, y_train_resampled)"
   ]
  },
  {
   "cell_type": "code",
   "execution_count": 21,
   "id": "75bb1878-5357-4315-95d9-8754013c8ade",
   "metadata": {},
   "outputs": [
    {
     "name": "stdout",
     "output_type": "stream",
     "text": [
      "              precision    recall  f1-score   support\n",
      "\n",
      "           0       0.97      0.99      0.98       878\n",
      "           1       1.00      1.00      1.00      1613\n",
      "           2       0.99      0.99      0.99      1610\n",
      "\n",
      "    accuracy                           0.99      4101\n",
      "   macro avg       0.99      0.99      0.99      4101\n",
      "weighted avg       0.99      0.99      0.99      4101\n",
      "\n"
     ]
    }
   ],
   "source": [
    "# Evaluate the model\n",
    "predictions = LightGBM_Classifier.predict(X_test)\n",
    "print(classification_report(y_test, predictions))"
   ]
  },
  {
   "cell_type": "code",
   "execution_count": 22,
   "id": "2c923a3f-0399-4ddc-81c9-ff4a88460bfa",
   "metadata": {},
   "outputs": [
    {
     "name": "stdout",
     "output_type": "stream",
     "text": [
      "Log Loss: 0.3076146960787862\n"
     ]
    }
   ],
   "source": [
    "predicted_proba = np.zeros((len(y_test), 3)) \n",
    "predicted_proba[np.arange(len(y_test)), predictions] = 1\n",
    "\n",
    "log_loss_value = log_loss(y_test, predicted_proba)\n",
    "print(f\"Log Loss: {log_loss_value}\")"
   ]
  },
  {
   "cell_type": "code",
   "execution_count": 26,
   "id": "0e07f740-50c3-4eb1-b4f1-3330adf87860",
   "metadata": {},
   "outputs": [
    {
     "data": {
      "image/png": "[encoded data removed]",
      "text/plain": [
       "<Figure size 600x500 with 2 Axes>"
      ]
     },
     "metadata": {},
     "output_type": "display_data"
    }
   ],
   "source": [
    "# Generate confusion matrix\n",
    "conf_matrix = confusion_matrix(y_test, predictions)\n",
    "\n",
    "# Plot confusion matrix\n",
    "plt.figure(figsize=(6, 5))\n",
    "# Define the custom palette\n",
    "custom_palette = sns.color_palette(\"flare\", as_cmap=True) # Modify the number based on number of classes in the dataset\n",
    "# Define custom font dictionary for title and labels\n",
    "font = {'family': 'Serif', 'weight': 'bold', 'size': 12}\n",
    "\n",
    "# Create heatmap with annotations and colormap\n",
    "heatmap = sns.heatmap(conf_matrix, annot=True, fmt='d', cmap=custom_palette,vmin=0,vmax=2000,\n",
    "                      xticklabels=['Bad', 'Moderate', 'Good'], yticklabels=['Bad', 'Moderate', 'Good'],annot_kws={\"family\": \"Serif\",'weight': 'bold', 'size': 12})\n",
    "\n",
    "# Set x and y labels with the custom font dictionary\n",
    "heatmap.set_xlabel('Predicted Labels', fontdict=font)\n",
    "heatmap.set_ylabel('True Labels', fontdict=font)\n",
    "heatmap.set_title('Predoct dishwashing machines health conditions', fontdict=font, pad=12)\n",
    "\n",
    "# Set font properties for tick labels on both axes\n",
    "heatmap.set_xticklabels(heatmap.get_xticklabels(), fontname='Serif', fontsize=12)\n",
    "heatmap.set_yticklabels(heatmap.get_yticklabels(), fontname='Serif', fontsize=12)\n",
    "\n",
    "# Create a color bar to indicate the scale\n",
    "cbar = heatmap.collections[0].colorbar\n",
    "cbar.set_label('Count', fontdict=font)\n",
    "cbar.ax.tick_params(labelsize=10)\n",
    "# Adjust padding between x-axis label and x-axis ticks\n",
    "plt.gca().xaxis.labelpad = 10  # Change the value as needed to adjust the space\n",
    "# Adjust layout to prevent cropping\n",
    "plt.tight_layout()\n",
    "plt.show()"
   ]
  },
  {
   "cell_type": "code",
   "execution_count": null,
   "id": "8883e4a6-4c2b-4bed-b839-41214e4183ad",
   "metadata": {},
   "outputs": [],
   "source": []
  },
  {
   "cell_type": "code",
   "execution_count": null,
   "id": "590bbfb7-a9f3-47f1-88f9-dd270c21a963",
   "metadata": {},
   "outputs": [],
   "source": []
  }
 ],
 "metadata": {
  "kernelspec": {
   "display_name": "Python 3 (ipykernel)",
   "language": "python",
   "name": "python3"
  },
  "language_info": {
   "codemirror_mode": {
    "name": "ipython",
    "version": 3
   },
   "file_extension": ".py",
   "mimetype": "text/x-python",
   "name": "python",
   "nbconvert_exporter": "python",
   "pygments_lexer": "ipython3",
   "version": "3.8.18"
  }
 },
 "nbformat": 4,
 "nbformat_minor": 5
}
